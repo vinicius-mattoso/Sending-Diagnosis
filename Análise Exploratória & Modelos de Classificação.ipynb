{
  "nbformat": 4,
  "nbformat_minor": 0,
  "metadata": {
    "kernelspec": {
      "display_name": "Python 3",
      "language": "python",
      "name": "python3"
    },
    "language_info": {
      "codemirror_mode": {
        "name": "ipython",
        "version": 3
      },
      "file_extension": ".py",
      "mimetype": "text/x-python",
      "name": "python",
      "nbconvert_exporter": "python",
      "pygments_lexer": "ipython3",
      "version": "3.8.3"
    },
    "colab": {
      "name": "Análise Exploratória & Modelos de Classificação.ipynb",
      "provenance": [],
      "toc_visible": true
    }
  },
  "cells": [
    {
      "cell_type": "markdown",
      "metadata": {
        "id": "fUduPxuMjY4g"
      },
      "source": [
        "Esse trabalho é uma parte do Desafio Final do BootCamp de Pyhton do IGTI.\n",
        "Nesse projeto final, foi pedido para criar diferentes modelos para realizar a previsão da Diabetes, com base na base de dados de paciente com e sem Diabetes.\n",
        "Após, rodar os três modelos(KNN, árvore de Decisão e MLP) irei avaliar o que teve a melhor resposta.\n",
        "Como próxima etapa desse projeto, irei criar uma aplicação em flask para realizar o Deploy do modelo que apresentar a melhor resposta nesse notebook."
      ]
    },
    {
      "cell_type": "code",
      "metadata": {
        "id": "u7FAtQH2jY4m"
      },
      "source": [
        "#Carregando as bibliotecas iniciais e a base de dados\n",
        "import pandas as pd\n",
        "import matplotlib.pyplot as plt\n",
        "\n",
        "df_diabetes=pd.read_csv('Base-diabetes.csv')\n"
      ],
      "execution_count": 1,
      "outputs": []
    },
    {
      "cell_type": "code",
      "metadata": {
        "id": "1a5eMWIJjY4s",
        "outputId": "943d9f2a-cb97-4fb4-8058-87a5ecfd13ea",
        "colab": {
          "base_uri": "https://localhost:8080/",
          "height": 204
        }
      },
      "source": [
        "#Visualizando os primeiros elementos dessa base de dados\n",
        "df_diabetes.head()"
      ],
      "execution_count": 2,
      "outputs": [
        {
          "output_type": "execute_result",
          "data": {
            "text/html": [
              "<div>\n",
              "<style scoped>\n",
              "    .dataframe tbody tr th:only-of-type {\n",
              "        vertical-align: middle;\n",
              "    }\n",
              "\n",
              "    .dataframe tbody tr th {\n",
              "        vertical-align: top;\n",
              "    }\n",
              "\n",
              "    .dataframe thead th {\n",
              "        text-align: right;\n",
              "    }\n",
              "</style>\n",
              "<table border=\"1\" class=\"dataframe\">\n",
              "  <thead>\n",
              "    <tr style=\"text-align: right;\">\n",
              "      <th></th>\n",
              "      <th>6</th>\n",
              "      <th>148</th>\n",
              "      <th>72</th>\n",
              "      <th>35</th>\n",
              "      <th>0</th>\n",
              "      <th>33.6</th>\n",
              "      <th>0.627</th>\n",
              "      <th>50</th>\n",
              "      <th>1</th>\n",
              "    </tr>\n",
              "  </thead>\n",
              "  <tbody>\n",
              "    <tr>\n",
              "      <th>0</th>\n",
              "      <td>1</td>\n",
              "      <td>85</td>\n",
              "      <td>66</td>\n",
              "      <td>29</td>\n",
              "      <td>0</td>\n",
              "      <td>26.6</td>\n",
              "      <td>0.351</td>\n",
              "      <td>31</td>\n",
              "      <td>0</td>\n",
              "    </tr>\n",
              "    <tr>\n",
              "      <th>1</th>\n",
              "      <td>8</td>\n",
              "      <td>183</td>\n",
              "      <td>64</td>\n",
              "      <td>0</td>\n",
              "      <td>0</td>\n",
              "      <td>23.3</td>\n",
              "      <td>0.672</td>\n",
              "      <td>32</td>\n",
              "      <td>1</td>\n",
              "    </tr>\n",
              "    <tr>\n",
              "      <th>2</th>\n",
              "      <td>1</td>\n",
              "      <td>89</td>\n",
              "      <td>66</td>\n",
              "      <td>23</td>\n",
              "      <td>94</td>\n",
              "      <td>28.1</td>\n",
              "      <td>0.167</td>\n",
              "      <td>21</td>\n",
              "      <td>0</td>\n",
              "    </tr>\n",
              "    <tr>\n",
              "      <th>3</th>\n",
              "      <td>0</td>\n",
              "      <td>137</td>\n",
              "      <td>40</td>\n",
              "      <td>35</td>\n",
              "      <td>168</td>\n",
              "      <td>43.1</td>\n",
              "      <td>2.288</td>\n",
              "      <td>33</td>\n",
              "      <td>1</td>\n",
              "    </tr>\n",
              "    <tr>\n",
              "      <th>4</th>\n",
              "      <td>5</td>\n",
              "      <td>116</td>\n",
              "      <td>74</td>\n",
              "      <td>0</td>\n",
              "      <td>0</td>\n",
              "      <td>25.6</td>\n",
              "      <td>0.201</td>\n",
              "      <td>30</td>\n",
              "      <td>0</td>\n",
              "    </tr>\n",
              "  </tbody>\n",
              "</table>\n",
              "</div>"
            ],
            "text/plain": [
              "   6  148  72  35    0  33.6  0.627  50  1\n",
              "0  1   85  66  29    0  26.6  0.351  31  0\n",
              "1  8  183  64   0    0  23.3  0.672  32  1\n",
              "2  1   89  66  23   94  28.1  0.167  21  0\n",
              "3  0  137  40  35  168  43.1  2.288  33  1\n",
              "4  5  116  74   0    0  25.6  0.201  30  0"
            ]
          },
          "metadata": {
            "tags": []
          },
          "execution_count": 2
        }
      ]
    },
    {
      "cell_type": "code",
      "metadata": {
        "id": "dgZwl3xBjY4y",
        "outputId": "977ff0ab-86b8-45f9-c431-a0b16f26c97f",
        "colab": {
          "base_uri": "https://localhost:8080/"
        }
      },
      "source": [
        "# Colocando o nome das colunas do Dados\n",
        "df_diabetes.columns=['Num. Gravid','Conc. Glicose','Pressao Diast.','Dobra Cut.','Insulina','IMC','Historic','Idade','Result']\n",
        "###Result ---> 0 Não e  1 Sim\n",
        "print(df_diabetes.head())"
      ],
      "execution_count": 3,
      "outputs": [
        {
          "output_type": "stream",
          "text": [
            "   Num. Gravid  Conc. Glicose  Pressao Diast.  ...  Historic  Idade  Result\n",
            "0            1             85              66  ...     0.351     31       0\n",
            "1            8            183              64  ...     0.672     32       1\n",
            "2            1             89              66  ...     0.167     21       0\n",
            "3            0            137              40  ...     2.288     33       1\n",
            "4            5            116              74  ...     0.201     30       0\n",
            "\n",
            "[5 rows x 9 columns]\n"
          ],
          "name": "stdout"
        }
      ]
    },
    {
      "cell_type": "markdown",
      "metadata": {
        "id": "HrSyVKvwjY42"
      },
      "source": [
        "Agora irei começar a fazer uma análise das informações contidas nessa base de dados, primeiramente irei verificar:\n",
        "-1: Os tipos de dados;\n",
        "-2: Verificar a existencia de zeros e NaN\n",
        "-3: Avaliar possiveis insconsistencias no Dataset"
      ]
    },
    {
      "cell_type": "code",
      "metadata": {
        "id": "gZsAtC6SjY42",
        "outputId": "fc60e44a-12d2-4167-b758-0baf0672a9a6",
        "colab": {
          "base_uri": "https://localhost:8080/"
        }
      },
      "source": [
        "##########################################################\n",
        "########## Analise exploratoria do modelo ################\n",
        "##########################################################\n",
        "###### Verificando os tipos de dados no Dataset ##########\n",
        "##########################################################\n",
        "df_diabetes.info()"
      ],
      "execution_count": 4,
      "outputs": [
        {
          "output_type": "stream",
          "text": [
            "<class 'pandas.core.frame.DataFrame'>\n",
            "RangeIndex: 767 entries, 0 to 766\n",
            "Data columns (total 9 columns):\n",
            " #   Column          Non-Null Count  Dtype  \n",
            "---  ------          --------------  -----  \n",
            " 0   Num. Gravid     767 non-null    int64  \n",
            " 1   Conc. Glicose   767 non-null    int64  \n",
            " 2   Pressao Diast.  767 non-null    int64  \n",
            " 3   Dobra Cut.      767 non-null    int64  \n",
            " 4   Insulina        767 non-null    int64  \n",
            " 5   IMC             767 non-null    float64\n",
            " 6   Historic        767 non-null    float64\n",
            " 7   Idade           767 non-null    int64  \n",
            " 8   Result          767 non-null    int64  \n",
            "dtypes: float64(2), int64(7)\n",
            "memory usage: 54.1 KB\n"
          ],
          "name": "stdout"
        }
      ]
    },
    {
      "cell_type": "code",
      "metadata": {
        "id": "M6OCL_pnjY45",
        "outputId": "85403217-df5a-41f4-dbe9-a9c8a7e154b9",
        "colab": {
          "base_uri": "https://localhost:8080/"
        }
      },
      "source": [
        "##########################################################\n",
        "########## Analise exploratoria do modelo ################\n",
        "##########################################################\n",
        "##### Verificando a existencia de Zeros e NaN  ##########\n",
        "##########################################################\n",
        "df_diabetes.isnull().sum()"
      ],
      "execution_count": 5,
      "outputs": [
        {
          "output_type": "execute_result",
          "data": {
            "text/plain": [
              "Num. Gravid       0\n",
              "Conc. Glicose     0\n",
              "Pressao Diast.    0\n",
              "Dobra Cut.        0\n",
              "Insulina          0\n",
              "IMC               0\n",
              "Historic          0\n",
              "Idade             0\n",
              "Result            0\n",
              "dtype: int64"
            ]
          },
          "metadata": {
            "tags": []
          },
          "execution_count": 5
        }
      ]
    },
    {
      "cell_type": "code",
      "metadata": {
        "id": "HZdajtf7jY48",
        "outputId": "67961ad4-d86b-4892-ccfa-8529f77221d2",
        "colab": {
          "base_uri": "https://localhost:8080/"
        }
      },
      "source": [
        "##########################################################\n",
        "########## Analise exploratoria do modelo ################\n",
        "##########################################################\n",
        "###### Verificando Inconsistencias no Dataset   ##########\n",
        "##########################################################\n",
        "print(df_diabetes.describe())"
      ],
      "execution_count": 6,
      "outputs": [
        {
          "output_type": "stream",
          "text": [
            "       Num. Gravid  Conc. Glicose  ...       Idade      Result\n",
            "count   767.000000     767.000000  ...  767.000000  767.000000\n",
            "mean      3.842243     120.859192  ...   33.219035    0.348110\n",
            "std       3.370877      31.978468  ...   11.752296    0.476682\n",
            "min       0.000000       0.000000  ...   21.000000    0.000000\n",
            "25%       1.000000      99.000000  ...   24.000000    0.000000\n",
            "50%       3.000000     117.000000  ...   29.000000    0.000000\n",
            "75%       6.000000     140.000000  ...   41.000000    1.000000\n",
            "max      17.000000     199.000000  ...   81.000000    1.000000\n",
            "\n",
            "[8 rows x 9 columns]\n"
          ],
          "name": "stdout"
        }
      ]
    },
    {
      "cell_type": "markdown",
      "metadata": {
        "id": "4fWUtXkHjY5E"
      },
      "source": [
        "Analisnando as informações estatisticas do nosso data set, podemos inferir que não temos uma inconsistencia de dados, pois esses valores são possiveis de ocorrer."
      ]
    },
    {
      "cell_type": "code",
      "metadata": {
        "id": "aDfgKOO0jY5F",
        "outputId": "ecb3a7e8-9a65-4440-ba47-bf32489ef0cf",
        "colab": {
          "base_uri": "https://localhost:8080/",
          "height": 328
        }
      },
      "source": [
        "##########################################################\n",
        "########## Analise Correspondencia do modelo #############\n",
        "##########################################################\n",
        "\n",
        "df_diabetes.corr()"
      ],
      "execution_count": 7,
      "outputs": [
        {
          "output_type": "execute_result",
          "data": {
            "text/html": [
              "<div>\n",
              "<style scoped>\n",
              "    .dataframe tbody tr th:only-of-type {\n",
              "        vertical-align: middle;\n",
              "    }\n",
              "\n",
              "    .dataframe tbody tr th {\n",
              "        vertical-align: top;\n",
              "    }\n",
              "\n",
              "    .dataframe thead th {\n",
              "        text-align: right;\n",
              "    }\n",
              "</style>\n",
              "<table border=\"1\" class=\"dataframe\">\n",
              "  <thead>\n",
              "    <tr style=\"text-align: right;\">\n",
              "      <th></th>\n",
              "      <th>Num. Gravid</th>\n",
              "      <th>Conc. Glicose</th>\n",
              "      <th>Pressao Diast.</th>\n",
              "      <th>Dobra Cut.</th>\n",
              "      <th>Insulina</th>\n",
              "      <th>IMC</th>\n",
              "      <th>Historic</th>\n",
              "      <th>Idade</th>\n",
              "      <th>Result</th>\n",
              "    </tr>\n",
              "  </thead>\n",
              "  <tbody>\n",
              "    <tr>\n",
              "      <th>Num. Gravid</th>\n",
              "      <td>1.000000</td>\n",
              "      <td>0.128846</td>\n",
              "      <td>0.141197</td>\n",
              "      <td>-0.082495</td>\n",
              "      <td>-0.072999</td>\n",
              "      <td>0.017518</td>\n",
              "      <td>-0.033927</td>\n",
              "      <td>0.544018</td>\n",
              "      <td>0.221087</td>\n",
              "    </tr>\n",
              "    <tr>\n",
              "      <th>Conc. Glicose</th>\n",
              "      <td>0.128846</td>\n",
              "      <td>1.000000</td>\n",
              "      <td>0.152498</td>\n",
              "      <td>0.056381</td>\n",
              "      <td>0.332383</td>\n",
              "      <td>0.220955</td>\n",
              "      <td>0.136903</td>\n",
              "      <td>0.262408</td>\n",
              "      <td>0.465856</td>\n",
              "    </tr>\n",
              "    <tr>\n",
              "      <th>Pressao Diast.</th>\n",
              "      <td>0.141197</td>\n",
              "      <td>0.152498</td>\n",
              "      <td>1.000000</td>\n",
              "      <td>0.207308</td>\n",
              "      <td>0.089098</td>\n",
              "      <td>0.281777</td>\n",
              "      <td>0.041180</td>\n",
              "      <td>0.239571</td>\n",
              "      <td>0.064882</td>\n",
              "    </tr>\n",
              "    <tr>\n",
              "      <th>Dobra Cut.</th>\n",
              "      <td>-0.082495</td>\n",
              "      <td>0.056381</td>\n",
              "      <td>0.207308</td>\n",
              "      <td>1.000000</td>\n",
              "      <td>0.437974</td>\n",
              "      <td>0.392553</td>\n",
              "      <td>0.183498</td>\n",
              "      <td>-0.115873</td>\n",
              "      <td>0.073265</td>\n",
              "    </tr>\n",
              "    <tr>\n",
              "      <th>Insulina</th>\n",
              "      <td>-0.072999</td>\n",
              "      <td>0.332383</td>\n",
              "      <td>0.089098</td>\n",
              "      <td>0.437974</td>\n",
              "      <td>1.000000</td>\n",
              "      <td>0.198111</td>\n",
              "      <td>0.185579</td>\n",
              "      <td>-0.040942</td>\n",
              "      <td>0.131984</td>\n",
              "    </tr>\n",
              "    <tr>\n",
              "      <th>IMC</th>\n",
              "      <td>0.017518</td>\n",
              "      <td>0.220955</td>\n",
              "      <td>0.281777</td>\n",
              "      <td>0.392553</td>\n",
              "      <td>0.198111</td>\n",
              "      <td>1.000000</td>\n",
              "      <td>0.140546</td>\n",
              "      <td>0.035911</td>\n",
              "      <td>0.292695</td>\n",
              "    </tr>\n",
              "    <tr>\n",
              "      <th>Historic</th>\n",
              "      <td>-0.033927</td>\n",
              "      <td>0.136903</td>\n",
              "      <td>0.041180</td>\n",
              "      <td>0.183498</td>\n",
              "      <td>0.185579</td>\n",
              "      <td>0.140546</td>\n",
              "      <td>1.000000</td>\n",
              "      <td>0.032738</td>\n",
              "      <td>0.173245</td>\n",
              "    </tr>\n",
              "    <tr>\n",
              "      <th>Idade</th>\n",
              "      <td>0.544018</td>\n",
              "      <td>0.262408</td>\n",
              "      <td>0.239571</td>\n",
              "      <td>-0.115873</td>\n",
              "      <td>-0.040942</td>\n",
              "      <td>0.035911</td>\n",
              "      <td>0.032738</td>\n",
              "      <td>1.000000</td>\n",
              "      <td>0.236417</td>\n",
              "    </tr>\n",
              "    <tr>\n",
              "      <th>Result</th>\n",
              "      <td>0.221087</td>\n",
              "      <td>0.465856</td>\n",
              "      <td>0.064882</td>\n",
              "      <td>0.073265</td>\n",
              "      <td>0.131984</td>\n",
              "      <td>0.292695</td>\n",
              "      <td>0.173245</td>\n",
              "      <td>0.236417</td>\n",
              "      <td>1.000000</td>\n",
              "    </tr>\n",
              "  </tbody>\n",
              "</table>\n",
              "</div>"
            ],
            "text/plain": [
              "                Num. Gravid  Conc. Glicose  ...     Idade    Result\n",
              "Num. Gravid        1.000000       0.128846  ...  0.544018  0.221087\n",
              "Conc. Glicose      0.128846       1.000000  ...  0.262408  0.465856\n",
              "Pressao Diast.     0.141197       0.152498  ...  0.239571  0.064882\n",
              "Dobra Cut.        -0.082495       0.056381  ... -0.115873  0.073265\n",
              "Insulina          -0.072999       0.332383  ... -0.040942  0.131984\n",
              "IMC                0.017518       0.220955  ...  0.035911  0.292695\n",
              "Historic          -0.033927       0.136903  ...  0.032738  0.173245\n",
              "Idade              0.544018       0.262408  ...  1.000000  0.236417\n",
              "Result             0.221087       0.465856  ...  0.236417  1.000000\n",
              "\n",
              "[9 rows x 9 columns]"
            ]
          },
          "metadata": {
            "tags": []
          },
          "execution_count": 7
        }
      ]
    },
    {
      "cell_type": "markdown",
      "metadata": {
        "id": "720pj_cEjY5L"
      },
      "source": [
        "Analisnando preliminarmente a matriz de correspondencia do modelo podemos inferir que a priori a \"Pressão Diast.\" e a \"Dobra Cut.\" não possuem um correlação muito grande com o paciente ter ou não diabetes"
      ]
    },
    {
      "cell_type": "code",
      "metadata": {
        "id": "vZW916jZjY5M",
        "outputId": "0b2b00fe-da87-41dc-dbec-7f413c17c072",
        "colab": {
          "base_uri": "https://localhost:8080/",
          "height": 297
        }
      },
      "source": [
        "fig, axs = plt.subplots(1, 2, sharey=True, tight_layout=True)\n",
        "axs[0].hist2d(df_diabetes['Pressao Diast.'],df_diabetes['Result']);\n",
        "axs[0].set_title('Histograma da Pressao Diast.', fontsize=10)\n",
        "\n",
        "axs[1].hist2d(df_diabetes['Dobra Cut.'],df_diabetes['Result']);\n",
        "axs[1].set_title('Histograma da Dobra Cut.', fontsize=10);"
      ],
      "execution_count": 8,
      "outputs": [
        {
          "output_type": "display_data",
          "data": {
            "image/png": "[encoded data removed]",
            "text/plain": [
              "<Figure size 432x288 with 2 Axes>"
            ]
          },
          "metadata": {
            "tags": [],
            "needs_background": "light"
          }
        }
      ]
    },
    {
      "cell_type": "markdown",
      "metadata": {
        "id": "-u89M4uKjY5Q"
      },
      "source": [
        "Como já era de se esperar, visto pela matriz de correlação, não podemos tirar uma conclusão sobre a doença olhando somente para a Pressao Diast. e nem para a Dobra Cut."
      ]
    },
    {
      "cell_type": "code",
      "metadata": {
        "id": "XRQVrcKnjY5Q",
        "outputId": "57a6b78f-c981-4095-c1b6-772d465703be",
        "colab": {
          "base_uri": "https://localhost:8080/",
          "height": 297
        }
      },
      "source": [
        "fig, axs = plt.subplots(1, 2, sharey=True, tight_layout=True)\n",
        "axs[0].hist2d(df_diabetes['IMC'],df_diabetes['Result']);\n",
        "axs[0].set_title('Histograma do IMC', fontsize=10)\n",
        "\n",
        "axs[1].hist2d(df_diabetes['Conc. Glicose'],df_diabetes['Result']);\n",
        "axs[1].set_title('Histograma da Conc. Glicose', fontsize=10);\n",
        "\n",
        "\n"
      ],
      "execution_count": 9,
      "outputs": [
        {
          "output_type": "display_data",
          "data": {
            "image/png": "[encoded data removed]",
            "text/plain": [
              "<Figure size 432x288 with 2 Axes>"
            ]
          },
          "metadata": {
            "tags": [],
            "needs_background": "light"
          }
        }
      ]
    },
    {
      "cell_type": "markdown",
      "metadata": {
        "id": "OewX5PvQjY5T"
      },
      "source": [
        "Como vitso na matriz de correlação e no histogramas acima, temos variaveis que são mais impactantes para a classificação do paciente do que as outras.\n",
        "Para melhorar essa visualização e facilitar a sua interpretação, iremos separar esse Dataset em dois dataset diferentes, sendo um apenas com pacientes que são doentes e os outros não "
      ]
    },
    {
      "cell_type": "code",
      "metadata": {
        "id": "Zd6TQ-mOjY5U"
      },
      "source": [
        "##########################################################\n",
        "##### Criando um base só com Pessoas Diabeticas  #########\n",
        "##########################################################\n",
        "\n",
        "df_diabetes_com=df_diabetes.loc[df_diabetes['Result']==1]\n",
        "\n",
        "##########################################################\n",
        "##### Criando um base só com Pessoas Sem Diabeticas  #####\n",
        "##########################################################\n",
        "\n",
        "df_diabetes_sem=df_diabetes.loc[df_diabetes['Result']==0]\n"
      ],
      "execution_count": 10,
      "outputs": []
    },
    {
      "cell_type": "markdown",
      "metadata": {
        "id": "xqhjvXLmjY5X"
      },
      "source": [
        "Agora iremos analisar se nosso dataset esta balanceado, com isso ja podemos ter uma noção de qual métrica de avaliação iremos utilizar para avaliar nosso modelo."
      ]
    },
    {
      "cell_type": "code",
      "metadata": {
        "id": "kVTx15Q9jY5X",
        "outputId": "6206196c-6670-4151-e9b7-c25140ab61c3",
        "colab": {
          "base_uri": "https://localhost:8080/"
        }
      },
      "source": [
        "df_diabetes_com.info()"
      ],
      "execution_count": 11,
      "outputs": [
        {
          "output_type": "stream",
          "text": [
            "<class 'pandas.core.frame.DataFrame'>\n",
            "Int64Index: 267 entries, 1 to 765\n",
            "Data columns (total 9 columns):\n",
            " #   Column          Non-Null Count  Dtype  \n",
            "---  ------          --------------  -----  \n",
            " 0   Num. Gravid     267 non-null    int64  \n",
            " 1   Conc. Glicose   267 non-null    int64  \n",
            " 2   Pressao Diast.  267 non-null    int64  \n",
            " 3   Dobra Cut.      267 non-null    int64  \n",
            " 4   Insulina        267 non-null    int64  \n",
            " 5   IMC             267 non-null    float64\n",
            " 6   Historic        267 non-null    float64\n",
            " 7   Idade           267 non-null    int64  \n",
            " 8   Result          267 non-null    int64  \n",
            "dtypes: float64(2), int64(7)\n",
            "memory usage: 20.9 KB\n"
          ],
          "name": "stdout"
        }
      ]
    },
    {
      "cell_type": "code",
      "metadata": {
        "id": "_a1A5rTojY5b",
        "outputId": "fab98220-2bcb-4486-e685-f8d9e01518a6",
        "colab": {
          "base_uri": "https://localhost:8080/"
        }
      },
      "source": [
        "df_diabetes_sem.info()"
      ],
      "execution_count": 12,
      "outputs": [
        {
          "output_type": "stream",
          "text": [
            "<class 'pandas.core.frame.DataFrame'>\n",
            "Int64Index: 500 entries, 0 to 766\n",
            "Data columns (total 9 columns):\n",
            " #   Column          Non-Null Count  Dtype  \n",
            "---  ------          --------------  -----  \n",
            " 0   Num. Gravid     500 non-null    int64  \n",
            " 1   Conc. Glicose   500 non-null    int64  \n",
            " 2   Pressao Diast.  500 non-null    int64  \n",
            " 3   Dobra Cut.      500 non-null    int64  \n",
            " 4   Insulina        500 non-null    int64  \n",
            " 5   IMC             500 non-null    float64\n",
            " 6   Historic        500 non-null    float64\n",
            " 7   Idade           500 non-null    int64  \n",
            " 8   Result          500 non-null    int64  \n",
            "dtypes: float64(2), int64(7)\n",
            "memory usage: 39.1 KB\n"
          ],
          "name": "stdout"
        }
      ]
    },
    {
      "cell_type": "code",
      "metadata": {
        "id": "EWmf306mjY5e",
        "outputId": "6667abdf-a42e-4133-dbc9-9c5db3a602f8",
        "colab": {
          "base_uri": "https://localhost:8080/",
          "height": 297
        }
      },
      "source": [
        "fig, axs = plt.subplots(1, 2, sharey=True, tight_layout=True)\n",
        "axs[0].hist(df_diabetes_com['IMC'])\n",
        "axs[0].set_title('IMC de Pacientes positivos', fontsize=10)\n",
        "\n",
        "axs[1].hist(df_diabetes_sem['IMC'])\n",
        "axs[1].set_title('IMC de Pacientes negativos', fontsize=10);"
      ],
      "execution_count": 13,
      "outputs": [
        {
          "output_type": "display_data",
          "data": {
            "image/png": "[encoded data removed]",
            "text/plain": [
              "<Figure size 432x288 with 2 Axes>"
            ]
          },
          "metadata": {
            "tags": [],
            "needs_background": "light"
          }
        }
      ]
    },
    {
      "cell_type": "code",
      "metadata": {
        "id": "ml9onvvdjY5j",
        "outputId": "ff32838a-972c-4cc3-fa76-2a4b0309cf85",
        "colab": {
          "base_uri": "https://localhost:8080/",
          "height": 297
        }
      },
      "source": [
        "fig, axs = plt.subplots(1, 2, sharey=True, tight_layout=True)\n",
        "axs[0].hist(df_diabetes_com['Idade'])\n",
        "axs[0].set_title('Idade de Pacientes positivos', fontsize=10)\n",
        "\n",
        "axs[1].hist(df_diabetes_sem['Idade'])\n",
        "axs[1].set_title('Idade de Pacientes negativos', fontsize=10);"
      ],
      "execution_count": 14,
      "outputs": [
        {
          "output_type": "display_data",
          "data": {
            "image/png": "[encoded data removed]",
            "text/plain": [
              "<Figure size 432x288 with 2 Axes>"
            ]
          },
          "metadata": {
            "tags": [],
            "needs_background": "light"
          }
        }
      ]
    },
    {
      "cell_type": "code",
      "metadata": {
        "id": "ablNdwrgjY5m",
        "outputId": "f0cc9217-a2e9-484a-fbd4-528f67489ede",
        "colab": {
          "base_uri": "https://localhost:8080/",
          "height": 297
        }
      },
      "source": [
        "fig, axs = plt.subplots(1, 2, sharey=True, tight_layout=True)\n",
        "axs[0].hist(df_diabetes_com['Conc. Glicose'])\n",
        "axs[0].set_title('Glicose de Pacientes positivos', fontsize=10)\n",
        "\n",
        "axs[1].hist(df_diabetes_sem['Conc. Glicose'])\n",
        "axs[1].set_title('Glicose de Pacientes negativos', fontsize=10);\n"
      ],
      "execution_count": 15,
      "outputs": [
        {
          "output_type": "display_data",
          "data": {
            "image/png": "[encoded data removed]",
            "text/plain": [
              "<Figure size 432x288 with 2 Axes>"
            ]
          },
          "metadata": {
            "tags": [],
            "needs_background": "light"
          }
        }
      ]
    },
    {
      "cell_type": "markdown",
      "metadata": {
        "id": "PzQmqZUzjY5r"
      },
      "source": [
        "Nessa parte do código iremos rodar três diferentes modelos de classificação (KNN, Random Forest, e MLP), não irei fazer nenhum tipo de filtro nos dados ou balanceamento na base, mesmo sabendo que precisamos uma vez que temos mais casos de paciente com diabetes do que sem.\n",
        "\n",
        "A primeira etapa vai ser a divisão em dados de entrada e dados target, seguido da normalização dos dados de entrada, que são as caracteristicas avaliadas para fazer a classificação.\n",
        "Por fim iremos fazer a divisão dos dados de treino e teste. Vale alterar diferentes valores do random_state utilizados para evitar análises tendenciosas"
      ]
    },
    {
      "cell_type": "code",
      "metadata": {
        "id": "Uy6YeAAzjY5r"
      },
      "source": [
        "#carregando as bibliotecas necessárias para dividir os dados e normalizar os mesmos\n",
        "\n",
        "from sklearn.model_selection import train_test_split\n",
        "from sklearn.preprocessing import MinMaxScaler"
      ],
      "execution_count": 16,
      "outputs": []
    },
    {
      "cell_type": "code",
      "metadata": {
        "id": "Q_Ow63FkjY5u"
      },
      "source": [
        "normaliza = MinMaxScaler() #objeto para a normalização"
      ],
      "execution_count": 17,
      "outputs": []
    },
    {
      "cell_type": "code",
      "metadata": {
        "id": "SRcSbKEOjY5w"
      },
      "source": [
        "#transforma os dados em array\n",
        "entradas= df_diabetes.iloc[:, :-1].values  #dados de entrada\n",
        "saida= df_diabetes.iloc[:, 8].values  # saídas ou target"
      ],
      "execution_count": 18,
      "outputs": []
    },
    {
      "cell_type": "code",
      "metadata": {
        "id": "HD_3IqBfjY5z"
      },
      "source": [
        "entradas_normalizadas=normaliza.fit_transform(entradas)"
      ],
      "execution_count": 19,
      "outputs": []
    },
    {
      "cell_type": "code",
      "metadata": {
        "id": "WuN7XQNtjY53"
      },
      "source": [
        "X_train, X_test, y_train, y_test =train_test_split(entradas_normalizadas, saida, test_size=0.30,random_state=42)"
      ],
      "execution_count": 20,
      "outputs": []
    },
    {
      "cell_type": "markdown",
      "metadata": {
        "id": "pVO2g94XjY56"
      },
      "source": [
        "Agora iremos começar a aplicação do modelo de KNN, utilizando 5 vizinhos para fazer a classificação"
      ]
    },
    {
      "cell_type": "code",
      "metadata": {
        "id": "hXhUkwaljY56",
        "outputId": "e75304eb-7f22-4cac-9833-903a28d6b61d",
        "colab": {
          "base_uri": "https://localhost:8080/"
        }
      },
      "source": [
        "#aplicando o método do KNN\n",
        "#treina o modelo \n",
        "from sklearn.neighbors import KNeighborsClassifier\n",
        "clf_KNN = KNeighborsClassifier(n_neighbors=5)#utiliza a construção por meio de 5 vizinhos\n",
        "clf_KNN.fit(X_train, y_train) # aplica a classificação"
      ],
      "execution_count": 21,
      "outputs": [
        {
          "output_type": "execute_result",
          "data": {
            "text/plain": [
              "KNeighborsClassifier(algorithm='auto', leaf_size=30, metric='minkowski',\n",
              "                     metric_params=None, n_jobs=None, n_neighbors=5, p=2,\n",
              "                     weights='uniform')"
            ]
          },
          "metadata": {
            "tags": []
          },
          "execution_count": 21
        }
      ]
    },
    {
      "cell_type": "code",
      "metadata": {
        "id": "nmW-B8iwjY59"
      },
      "source": [
        "#realiza a previsão\n",
        "y_pred = clf_KNN.predict(X_test)"
      ],
      "execution_count": 22,
      "outputs": []
    },
    {
      "cell_type": "markdown",
      "metadata": {
        "id": "9I9WMKyXjY6A"
      },
      "source": [
        "Agora iremos exibir a matriz de confusão e o report de classificação desse modelo. Como nosso modelo esta desbalanceado iremos avaliar sua eficiencia pela acurácia e pelo F1-score"
      ]
    },
    {
      "cell_type": "code",
      "metadata": {
        "id": "EIRaHBk7jY6B",
        "outputId": "dfde8fa7-92e1-4eae-c153-8e29499a3606",
        "colab": {
          "base_uri": "https://localhost:8080/"
        }
      },
      "source": [
        "#constroi a matriz de confusão para comparar o modelo criado\n",
        "from sklearn.metrics import classification_report, confusion_matrix\n",
        "print(confusion_matrix(y_test, y_pred))"
      ],
      "execution_count": 23,
      "outputs": [
        {
          "output_type": "stream",
          "text": [
            "[[127  24]\n",
            " [ 44  36]]\n"
          ],
          "name": "stdout"
        }
      ]
    },
    {
      "cell_type": "code",
      "metadata": {
        "id": "zCJ9sNBRjY6H",
        "outputId": "64fa8b57-dfb0-416e-db82-5691049b6c1f",
        "colab": {
          "base_uri": "https://localhost:8080/"
        }
      },
      "source": [
        "#Exibindo o report do modelo para avaliar o modelo criado\n",
        "print(classification_report(y_test, y_pred))"
      ],
      "execution_count": 24,
      "outputs": [
        {
          "output_type": "stream",
          "text": [
            "              precision    recall  f1-score   support\n",
            "\n",
            "           0       0.74      0.84      0.79       151\n",
            "           1       0.60      0.45      0.51        80\n",
            "\n",
            "    accuracy                           0.71       231\n",
            "   macro avg       0.67      0.65      0.65       231\n",
            "weighted avg       0.69      0.71      0.69       231\n",
            "\n"
          ],
          "name": "stdout"
        }
      ]
    },
    {
      "cell_type": "code",
      "metadata": {
        "id": "ky9ytDM-jY6L"
      },
      "source": [
        "#Avaliando agora por meio de uma arvore de Decisão\n",
        "from sklearn.tree import DecisionTreeClassifier # importa o classificador árvore de decisão"
      ],
      "execution_count": 25,
      "outputs": []
    },
    {
      "cell_type": "code",
      "metadata": {
        "id": "ia2RpEuGjY6O"
      },
      "source": [
        "# Cria o objeto de classificação através do \n",
        "clf_arvore = DecisionTreeClassifier(random_state=1)\n",
        "\n",
        "# Realiza o treinamento do classificador\n",
        "clf_arvore = clf_arvore.fit(X_train,y_train)\n",
        "\n",
        "#Realiza a previsão de classificaçao \n",
        "y_pred = clf_arvore.predict(X_test)"
      ],
      "execution_count": 26,
      "outputs": []
    },
    {
      "cell_type": "code",
      "metadata": {
        "id": "wMHXup4zjY6R",
        "outputId": "7aa45f31-a805-42ab-dbf8-fe4381581b45",
        "colab": {
          "base_uri": "https://localhost:8080/"
        }
      },
      "source": [
        "#constroi a matriz de confusão para comparar o modelo criado\n",
        "from sklearn.metrics import classification_report, confusion_matrix\n",
        "print(confusion_matrix(y_test, y_pred))\n"
      ],
      "execution_count": 27,
      "outputs": [
        {
          "output_type": "stream",
          "text": [
            "[[117  34]\n",
            " [ 31  49]]\n"
          ],
          "name": "stdout"
        }
      ]
    },
    {
      "cell_type": "code",
      "metadata": {
        "id": "lQ3DyyLGjY6W",
        "outputId": "fb864b82-5dec-487c-e5d4-7451405dafdd",
        "colab": {
          "base_uri": "https://localhost:8080/"
        }
      },
      "source": [
        "#Exibindo o report do modelo para avaliar o modelo criado\n",
        "print(classification_report(y_test, y_pred))"
      ],
      "execution_count": 28,
      "outputs": [
        {
          "output_type": "stream",
          "text": [
            "              precision    recall  f1-score   support\n",
            "\n",
            "           0       0.79      0.77      0.78       151\n",
            "           1       0.59      0.61      0.60        80\n",
            "\n",
            "    accuracy                           0.72       231\n",
            "   macro avg       0.69      0.69      0.69       231\n",
            "weighted avg       0.72      0.72      0.72       231\n",
            "\n"
          ],
          "name": "stdout"
        }
      ]
    },
    {
      "cell_type": "code",
      "metadata": {
        "id": "tgwcDBTxjY6Z"
      },
      "source": [
        "#definição da biblioteca\n",
        "from sklearn.neural_network import MLPClassifier\n",
        "#Algoritmo Rede MLP\n",
        "clf_mlp = MLPClassifier(solver=\"lbfgs\", alpha=1e-5, hidden_layer_sizes=(5, 5), random_state=1,max_iter=1000)\n",
        "#Realiza o treinamento do classificador\n",
        "clf_mlp= clf_mlp.fit(X_train,y_train)\n",
        "\n",
        "#Realiza a previsão de classificaçao \n",
        "y_pred = clf_mlp.predict(X_test)"
      ],
      "execution_count": 29,
      "outputs": []
    },
    {
      "cell_type": "code",
      "metadata": {
        "id": "VumKEROjjY6b",
        "outputId": "813c4c24-17c1-481d-fdbb-1a9d88311004",
        "colab": {
          "base_uri": "https://localhost:8080/"
        }
      },
      "source": [
        "#constroi a matriz de confusão para comparar o modelo criado\n",
        "from sklearn.metrics import classification_report, confusion_matrix\n",
        "print(confusion_matrix(y_test, y_pred))\n"
      ],
      "execution_count": 30,
      "outputs": [
        {
          "output_type": "stream",
          "text": [
            "[[129  22]\n",
            " [ 33  47]]\n"
          ],
          "name": "stdout"
        }
      ]
    },
    {
      "cell_type": "code",
      "metadata": {
        "id": "r7oY6-T4jY6f",
        "outputId": "5e4017b6-480e-4c50-efc5-b4fb3af3cac5",
        "colab": {
          "base_uri": "https://localhost:8080/"
        }
      },
      "source": [
        "#Exibindo o report do modelo para avaliar o modelo criado\n",
        "print(classification_report(y_test, y_pred))"
      ],
      "execution_count": 31,
      "outputs": [
        {
          "output_type": "stream",
          "text": [
            "              precision    recall  f1-score   support\n",
            "\n",
            "           0       0.80      0.85      0.82       151\n",
            "           1       0.68      0.59      0.63        80\n",
            "\n",
            "    accuracy                           0.76       231\n",
            "   macro avg       0.74      0.72      0.73       231\n",
            "weighted avg       0.76      0.76      0.76       231\n",
            "\n"
          ],
          "name": "stdout"
        }
      ]
    },
    {
      "cell_type": "markdown",
      "metadata": {
        "id": "E8ymoooVjc2C"
      },
      "source": [
        "# Analisando a base de dados, podemos ver que temos muito mais individuos de um tipo do que do outro, por isso, irei fazer o rebalanceamento dos dados"
      ]
    },
    {
      "cell_type": "code",
      "metadata": {
        "id": "PZgXGOFjjfdl",
        "outputId": "61108012-a92b-471a-eef8-90ddef4975de",
        "colab": {
          "base_uri": "https://localhost:8080/",
          "height": 297
        }
      },
      "source": [
        "plt.hist(df_diabetes['Result']);\n",
        "plt.title('Avaliação da quantidade de pacientes em cada grupo', fontsize=15);\n",
        "plt.xlabel('0-Negativo & 1-Positivo');\n",
        "plt.ylabel(\"Numero de Pacientes\");"
      ],
      "execution_count": 32,
      "outputs": [
        {
          "output_type": "display_data",
          "data": {
            "image/png": "[encoded data removed]",
            "text/plain": [
              "<Figure size 432x288 with 1 Axes>"
            ]
          },
          "metadata": {
            "tags": [],
            "needs_background": "light"
          }
        }
      ]
    },
    {
      "cell_type": "code",
      "metadata": {
        "id": "YsyymEj4jiGX"
      },
      "source": [
        "#!pip install imbalanced-learn"
      ],
      "execution_count": 33,
      "outputs": []
    },
    {
      "cell_type": "code",
      "metadata": {
        "id": "d3nxo3wYjkhf",
        "outputId": "5b83740d-635f-4368-d378-353221a56885",
        "colab": {
          "base_uri": "https://localhost:8080/"
        }
      },
      "source": [
        "from imblearn.under_sampling import RandomUnderSampler"
      ],
      "execution_count": 34,
      "outputs": [
        {
          "output_type": "stream",
          "text": [
            "/usr/local/lib/python3.6/dist-packages/sklearn/externals/six.py:31: FutureWarning: The module is deprecated in version 0.21 and will be removed in version 0.23 since we've dropped support for Python 2.7. Please rely on the official version of six (https://pypi.org/project/six/).\n",
            "  \"(https://pypi.org/project/six/).\", FutureWarning)\n",
            "/usr/local/lib/python3.6/dist-packages/sklearn/utils/deprecation.py:144: FutureWarning: The sklearn.neighbors.base module is  deprecated in version 0.22 and will be removed in version 0.24. The corresponding classes / functions should instead be imported from sklearn.neighbors. Anything that cannot be imported from sklearn.neighbors is now part of the private API.\n",
            "  warnings.warn(message, FutureWarning)\n"
          ],
          "name": "stderr"
        }
      ]
    },
    {
      "cell_type": "code",
      "metadata": {
        "id": "In8-e6Jejmo2"
      },
      "source": [
        "#!pip install seaborn"
      ],
      "execution_count": 35,
      "outputs": []
    },
    {
      "cell_type": "code",
      "metadata": {
        "id": "_dc5K5ngjn0J",
        "outputId": "0b5d6ae9-6053-4c20-8d98-3da5e7177317",
        "colab": {
          "base_uri": "https://localhost:8080/",
          "height": 404
        }
      },
      "source": [
        "import seaborn as sns\n",
        "# usar técnica under-sampling\n",
        "rus = RandomUnderSampler();\n",
        "X_res, y_res = rus.fit_sample(X_train, y_train);\n",
        " \n",
        "# ver o balanceamento das classes\n",
        "print(pd.Series(y_res).value_counts());\n",
        " \n",
        "# plotar a nova distribuição de classes\n",
        "sns.countplot(y_res);"
      ],
      "execution_count": 36,
      "outputs": [
        {
          "output_type": "stream",
          "text": [
            "/usr/local/lib/python3.6/dist-packages/sklearn/utils/deprecation.py:87: FutureWarning: Function safe_indexing is deprecated; safe_indexing is deprecated in version 0.22 and will be removed in version 0.24.\n",
            "  warnings.warn(msg, category=FutureWarning)\n",
            "/usr/local/lib/python3.6/dist-packages/seaborn/_decorators.py:43: FutureWarning: Pass the following variable as a keyword arg: x. From version 0.12, the only valid positional argument will be `data`, and passing other arguments without an explicit keyword will result in an error or misinterpretation.\n",
            "  FutureWarning\n"
          ],
          "name": "stderr"
        },
        {
          "output_type": "stream",
          "text": [
            "1    187\n",
            "0    187\n",
            "dtype: int64\n"
          ],
          "name": "stdout"
        },
        {
          "output_type": "display_data",
          "data": {
            "image/png": "[encoded data removed]",
            "text/plain": [
              "<Figure size 432x288 with 1 Axes>"
            ]
          },
          "metadata": {
            "tags": [],
            "needs_background": "light"
          }
        }
      ]
    },
    {
      "cell_type": "markdown",
      "metadata": {
        "id": "SgyoiPotjtnP"
      },
      "source": [
        "Aplicando novamente o método de MLP para avaliar se houve melhora:"
      ]
    },
    {
      "cell_type": "code",
      "metadata": {
        "id": "ftO9sCdajrcd"
      },
      "source": [
        "#definição da biblioteca\n",
        "from sklearn.neural_network import MLPClassifier\n",
        "#Algoritmo Rede MLP\n",
        "clf_mlp = MLPClassifier(solver=\"lbfgs\", alpha=1e-5, hidden_layer_sizes=(5, 5), random_state=1,max_iter=1000)\n",
        "#Realiza o treinamento do classificador\n",
        "clf_mlp= clf_mlp.fit(X_res,y_res)\n",
        "\n",
        "#Realiza a previsão de classificaçao \n",
        "y_pred = clf_mlp.predict(X_test)"
      ],
      "execution_count": 37,
      "outputs": []
    },
    {
      "cell_type": "code",
      "metadata": {
        "id": "QERkR4_EjwJn",
        "outputId": "02942666-8d2a-4afb-f564-23559f437b39",
        "colab": {
          "base_uri": "https://localhost:8080/"
        }
      },
      "source": [
        "#constroi a matriz de confusão para comparar o modelo criado\n",
        "from sklearn.metrics import classification_report, confusion_matrix\n",
        "print(confusion_matrix(y_test, y_pred))"
      ],
      "execution_count": 38,
      "outputs": [
        {
          "output_type": "stream",
          "text": [
            "[[111  40]\n",
            " [ 22  58]]\n"
          ],
          "name": "stdout"
        }
      ]
    },
    {
      "cell_type": "code",
      "metadata": {
        "id": "dB9utStwjx-a",
        "outputId": "0b51bd21-3af9-48f2-bd09-d44ce64b3194",
        "colab": {
          "base_uri": "https://localhost:8080/"
        }
      },
      "source": [
        "#Exibindo o report do modelo para avaliar o modelo criado\n",
        "print(classification_report(y_test, y_pred))"
      ],
      "execution_count": 39,
      "outputs": [
        {
          "output_type": "stream",
          "text": [
            "              precision    recall  f1-score   support\n",
            "\n",
            "           0       0.83      0.74      0.78       151\n",
            "           1       0.59      0.72      0.65        80\n",
            "\n",
            "    accuracy                           0.73       231\n",
            "   macro avg       0.71      0.73      0.72       231\n",
            "weighted avg       0.75      0.73      0.74       231\n",
            "\n"
          ],
          "name": "stdout"
        }
      ]
    },
    {
      "cell_type": "markdown",
      "metadata": {
        "id": "R3pibB8WkUaA"
      },
      "source": [
        "Como podemos observar, houve uma redução na acurácia do modelo, assim como no F1 score.\n",
        "\n",
        "Agora irei aplicar a técnica do oversampling, que busca aumentar a quantidade de dados do grupo que inicialmente tinha a menor quantidade"
      ]
    },
    {
      "cell_type": "code",
      "metadata": {
        "id": "nUx1Alohjz_x"
      },
      "source": [
        "from imblearn.over_sampling import RandomOverSampler"
      ],
      "execution_count": 40,
      "outputs": []
    },
    {
      "cell_type": "code",
      "metadata": {
        "id": "KhbJW_lXkW1G",
        "outputId": "85c6cd75-f2ea-425d-ce5e-def49d50707b",
        "colab": {
          "base_uri": "https://localhost:8080/",
          "height": 404
        }
      },
      "source": [
        "# usar técnica over-sampling\n",
        "rus = RandomOverSampler();\n",
        "X_res, y_res = rus.fit_sample(X_train, y_train);\n",
        " \n",
        "# ver o balanceamento das classes\n",
        "print(pd.Series(y_res).value_counts());\n",
        " \n",
        "# plotar a nova distribuição de classes\n",
        "sns.countplot(y_res);"
      ],
      "execution_count": 41,
      "outputs": [
        {
          "output_type": "stream",
          "text": [
            "1    349\n",
            "0    349\n",
            "dtype: int64\n"
          ],
          "name": "stdout"
        },
        {
          "output_type": "stream",
          "text": [
            "/usr/local/lib/python3.6/dist-packages/sklearn/utils/deprecation.py:87: FutureWarning: Function safe_indexing is deprecated; safe_indexing is deprecated in version 0.22 and will be removed in version 0.24.\n",
            "  warnings.warn(msg, category=FutureWarning)\n",
            "/usr/local/lib/python3.6/dist-packages/seaborn/_decorators.py:43: FutureWarning: Pass the following variable as a keyword arg: x. From version 0.12, the only valid positional argument will be `data`, and passing other arguments without an explicit keyword will result in an error or misinterpretation.\n",
            "  FutureWarning\n"
          ],
          "name": "stderr"
        },
        {
          "output_type": "display_data",
          "data": {
            "image/png": "[encoded data removed]",
            "text/plain": [
              "<Figure size 432x288 with 1 Axes>"
            ]
          },
          "metadata": {
            "tags": [],
            "needs_background": "light"
          }
        }
      ]
    },
    {
      "cell_type": "markdown",
      "metadata": {
        "id": "KYlsZgGokbfv"
      },
      "source": [
        "Aplicando novamente o método de MLP para avaliar se houve melhora:"
      ]
    },
    {
      "cell_type": "code",
      "metadata": {
        "id": "GqLnYuiMkZgf"
      },
      "source": [
        "#definição da biblioteca\n",
        "from sklearn.neural_network import MLPClassifier\n",
        "#Algoritmo Rede MLP\n",
        "clf_mlp = MLPClassifier(solver=\"lbfgs\", alpha=1e-5, hidden_layer_sizes=(5, 5), random_state=1,max_iter=1000)\n",
        "#Realiza o treinamento do classificador\n",
        "clf_mlp= clf_mlp.fit(X_res,y_res)\n",
        "\n",
        "#Realiza a previsão de classificaçao \n",
        "y_pred = clf_mlp.predict(X_test)"
      ],
      "execution_count": 42,
      "outputs": []
    },
    {
      "cell_type": "code",
      "metadata": {
        "id": "PpK_Ru6Kkd-_",
        "outputId": "31e6796e-1879-4049-911a-af5662aed20b",
        "colab": {
          "base_uri": "https://localhost:8080/"
        }
      },
      "source": [
        "#constroi a matriz de confusão para comparar o modelo criado\n",
        "from sklearn.metrics import classification_report, confusion_matrix\n",
        "print(confusion_matrix(y_test, y_pred))"
      ],
      "execution_count": 43,
      "outputs": [
        {
          "output_type": "stream",
          "text": [
            "[[98 53]\n",
            " [12 68]]\n"
          ],
          "name": "stdout"
        }
      ]
    },
    {
      "cell_type": "code",
      "metadata": {
        "id": "rFn2eTnhkfZ7",
        "outputId": "8d45febf-2af6-473a-d615-34562fc2f059",
        "colab": {
          "base_uri": "https://localhost:8080/"
        }
      },
      "source": [
        "#Exibindo o report do modelo para avaliar o modelo criado\n",
        "print(classification_report(y_test, y_pred))"
      ],
      "execution_count": 44,
      "outputs": [
        {
          "output_type": "stream",
          "text": [
            "              precision    recall  f1-score   support\n",
            "\n",
            "           0       0.89      0.65      0.75       151\n",
            "           1       0.56      0.85      0.68        80\n",
            "\n",
            "    accuracy                           0.72       231\n",
            "   macro avg       0.73      0.75      0.71       231\n",
            "weighted avg       0.78      0.72      0.73       231\n",
            "\n"
          ],
          "name": "stdout"
        }
      ]
    },
    {
      "cell_type": "markdown",
      "metadata": {
        "id": "6lksDSqpkhKX"
      },
      "source": [
        "O resultado depois dessa técnica apresentou uma pequena melhorias no modelo, então vou continuar utilizando o modelo com a base desbalanceada mesmo. E buscando novas formas de melhorar o modelo."
      ]
    }
  ]
}